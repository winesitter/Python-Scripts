{
 "cells": [
  {
   "cell_type": "code",
   "execution_count": 31,
   "metadata": {},
   "outputs": [
    {
     "name": "stdout",
     "output_type": "stream",
     "text": [
      "True\n"
     ]
    },
    {
     "data": {
      "image/png": "[encoded data removed]",
      "text/plain": [
       "<matplotlib.figure.Figure at 0x7ff175266208>"
      ]
     },
     "metadata": {},
     "output_type": "display_data"
    }
   ],
   "source": [
    "'''Triangular Mesh Generation'''\n",
    "\n",
    "class Point:\n",
    "    def __init__(self, x, y, **kwargs):\n",
    "        self.x = x\n",
    "        self.y = y\n",
    "        \n",
    "class Triangle:\n",
    "    def __init__(self, P0, P1, P2):\n",
    "        self.pts = [P0, P1, P2]\n",
    "        \n",
    "        # Check for ccw orientation\n",
    "        if not self.isCCW():\n",
    "            self.pts = self.pts[::-1]\n",
    "            \n",
    "        \n",
    "    def isCCW(self):\n",
    "        dx1 = self.pts[1].x - self.pts[0].x\n",
    "        dx2 = self.pts[2].x - self.pts[1].x\n",
    "        dy1 = self.pts[1].y + self.pts[0].y\n",
    "        dy2 = self.pts[2].y + self.pts[1].y\n",
    "        return (dx1*dy1 + dx2*dy2) < 0\n",
    "        \n",
    "def main():\n",
    "    P = [Point(0.0, 0.0),\n",
    "         Point(1.0, 2.0),\n",
    "         Point(2.0, 0.0)]\n",
    "    \n",
    "    T = Triangle(P[0], P[1], P[2])\n",
    "    print(T.isCCW())\n",
    "    \n",
    "    from matplotlib import pyplot as plt\n",
    "    \n",
    "    fig = plt.figure()\n",
    "    fig.set_size_inches(4,4)\n",
    "    ax = fig.add_subplot(111)\n",
    "    ax.set_aspect('equal')\n",
    "    \n",
    "    # Plot points in domain\n",
    "    for i, p in enumerate(P):\n",
    "        ax.text(p.x, p.y, str(i))\n",
    "        ax.plot(p.x, p.y, marker='o')\n",
    "        \n",
    "    \n",
    "    \n",
    "        \n",
    "    plt.show()\n",
    "     \n",
    "        \n",
    "\n",
    "main()\n"
   ]
  },
  {
   "cell_type": "code",
   "execution_count": null,
   "metadata": {},
   "outputs": [],
   "source": []
  }
 ],
 "metadata": {
  "kernelspec": {
   "display_name": "Python 3",
   "language": "python",
   "name": "python3"
  },
  "language_info": {
   "codemirror_mode": {
    "name": "ipython",
    "version": 3
   },
   "file_extension": ".py",
   "mimetype": "text/x-python",
   "name": "python",
   "nbconvert_exporter": "python",
   "pygments_lexer": "ipython3",
   "version": "3.6.4"
  }
 },
 "nbformat": 4,
 "nbformat_minor": 2
}
